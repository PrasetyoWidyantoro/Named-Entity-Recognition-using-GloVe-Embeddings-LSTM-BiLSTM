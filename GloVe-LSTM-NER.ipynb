{
 "cells": [
  {
   "cell_type": "markdown",
   "id": "fedba85e-049d-4bbd-a4f4-78806bf2f406",
   "metadata": {},
   "source": [
    "# Named Entity Recognition"
   ]
  },
  {
   "cell_type": "markdown",
   "id": "e9d01f5f-a019-409f-8dfa-2f1e726c67fa",
   "metadata": {},
   "source": [
    "Named Entity Recognition (NER) is a component of the information extraction process aimed at identifying and categorizing named entities within a text. These named entities can include organizations, individuals, locations, times, and more. Through NER, we can recognize and classify portions of text containing named entities, thereby providing a better understanding of the information contained within the text."
   ]
  },
  {
   "cell_type": "markdown",
   "id": "23c2c6cd-7f9e-4705-9cf7-73bf6b784329",
   "metadata": {},
   "source": [
    "### Business Problem:\n",
    "A large technology-based company faces a challenge in efficiently extracting important information from large volumes of text data, including documents, news articles, and social media posts. The company needs to identify entities such as person names, company names, geographic locations, and dates from the text accurately and quickly to gain insights and make informed decisions.\n",
    "\n",
    "### Business Metrics:\n",
    "To evaluate the success of the NER solution, the company can track the following business metrics:\n",
    "1. **Accuracy**: The ability of the NER model to correctly identify entities in the text.\n",
    "2. **Efficiency**: The time taken by the NER system to process a given amount of text and produce entity recognition results.\n",
    "3. **Scalability**: The NER solution's ability to handle increasing amounts of text data without compromising performance.\n",
    "4. **Precision and Recall**: Measures of the NER model's ability to accurately identify relevant entities (precision) and retrieve all relevant entities (recall) from the text.\n",
    "\n",
    "### Solution:\n",
    "To address the business problem, the company decides to develop an NER system using a combination of pretrained GloVe word embeddings and an LSTM-based neural network architecture. Here's how the solution will be implemented:\n",
    "1. **Data Preparation**: The company collects and preprocesses text data for training and testing the NER model. The text data is cleaned, tokenized, and annotated with entity labels.\n",
    "2. **Model Development**: The NER model is built using a pretrained GloVe embedding layer to represent words in a continuous vector space. An LSTM layer is then used to learn the sequential patterns and context of the text data. The model is trained on annotated data to recognize entities in the text.\n",
    "3. **Evaluation**: The performance of the NER model is evaluated using metrics such as accuracy, precision, recall, and F1-score on a separate test dataset.\n",
    "4. **Deployment**: Once trained and evaluated, the NER model is deployed into the company's production environment. It is integrated into existing text processing pipelines to automatically extract entities from incoming text data.\n",
    "5. **Monitoring and Iteration**: The deployed NER system is monitored for performance and fine-tuned as needed to improve accuracy and efficiency. This includes retraining the model with additional annotated data and updating the model architecture based on advancements in NER techniques."
   ]
  },
  {
   "cell_type": "code",
   "execution_count": 1,
   "id": "b0a12c09-a3f3-4550-8c88-5d1c316d7eff",
   "metadata": {},
   "outputs": [],
   "source": [
    "import numpy as np \n",
    "import pandas as pd \n",
    "import random \n",
    "from sklearn.metrics import classification_report\n",
    "import os\n",
    "from sklearn.model_selection import train_test_split"
   ]
  },
  {
   "cell_type": "code",
   "execution_count": 2,
   "id": "54e39257-bddf-4b59-a544-0c6209e1096c",
   "metadata": {},
   "outputs": [
    {
     "data": {
      "text/html": [
       "<div>\n",
       "<style scoped>\n",
       "    .dataframe tbody tr th:only-of-type {\n",
       "        vertical-align: middle;\n",
       "    }\n",
       "\n",
       "    .dataframe tbody tr th {\n",
       "        vertical-align: top;\n",
       "    }\n",
       "\n",
       "    .dataframe thead th {\n",
       "        text-align: right;\n",
       "    }\n",
       "</style>\n",
       "<table border=\"1\" class=\"dataframe\">\n",
       "  <thead>\n",
       "    <tr style=\"text-align: right;\">\n",
       "      <th></th>\n",
       "      <th>Sentence #</th>\n",
       "      <th>Word</th>\n",
       "      <th>POS</th>\n",
       "      <th>Tag</th>\n",
       "    </tr>\n",
       "  </thead>\n",
       "  <tbody>\n",
       "    <tr>\n",
       "      <th>0</th>\n",
       "      <td>Sentence: 1</td>\n",
       "      <td>Thousands</td>\n",
       "      <td>NNS</td>\n",
       "      <td>O</td>\n",
       "    </tr>\n",
       "    <tr>\n",
       "      <th>1</th>\n",
       "      <td>NaN</td>\n",
       "      <td>of</td>\n",
       "      <td>IN</td>\n",
       "      <td>O</td>\n",
       "    </tr>\n",
       "    <tr>\n",
       "      <th>2</th>\n",
       "      <td>NaN</td>\n",
       "      <td>demonstrators</td>\n",
       "      <td>NNS</td>\n",
       "      <td>O</td>\n",
       "    </tr>\n",
       "    <tr>\n",
       "      <th>3</th>\n",
       "      <td>NaN</td>\n",
       "      <td>have</td>\n",
       "      <td>VBP</td>\n",
       "      <td>O</td>\n",
       "    </tr>\n",
       "    <tr>\n",
       "      <th>4</th>\n",
       "      <td>NaN</td>\n",
       "      <td>marched</td>\n",
       "      <td>VBN</td>\n",
       "      <td>O</td>\n",
       "    </tr>\n",
       "  </tbody>\n",
       "</table>\n",
       "</div>"
      ],
      "text/plain": [
       "    Sentence #           Word  POS Tag\n",
       "0  Sentence: 1      Thousands  NNS   O\n",
       "1          NaN             of   IN   O\n",
       "2          NaN  demonstrators  NNS   O\n",
       "3          NaN           have  VBP   O\n",
       "4          NaN        marched  VBN   O"
      ]
     },
     "execution_count": 2,
     "metadata": {},
     "output_type": "execute_result"
    }
   ],
   "source": [
    "# read data\n",
    "df = pd.read_csv(\"ner_dataset.csv\", encoding=\"latin1\")\n",
    "# sanity check\n",
    "df.head()"
   ]
  },
  {
   "cell_type": "code",
   "execution_count": 3,
   "id": "5de9e830-22de-42be-a019-6f1e866bffee",
   "metadata": {},
   "outputs": [
    {
     "data": {
      "text/plain": [
       "Sentence #    1000616\n",
       "Word                0\n",
       "POS                 0\n",
       "Tag                 0\n",
       "dtype: int64"
      ]
     },
     "execution_count": 3,
     "metadata": {},
     "output_type": "execute_result"
    }
   ],
   "source": [
    "# null value check\n",
    "df.isnull().sum()"
   ]
  },
  {
   "cell_type": "code",
   "execution_count": 4,
   "id": "93d8e650-f301-422b-b9ae-c2da3ba730be",
   "metadata": {},
   "outputs": [
    {
     "data": {
      "text/html": [
       "<div>\n",
       "<style scoped>\n",
       "    .dataframe tbody tr th:only-of-type {\n",
       "        vertical-align: middle;\n",
       "    }\n",
       "\n",
       "    .dataframe tbody tr th {\n",
       "        vertical-align: top;\n",
       "    }\n",
       "\n",
       "    .dataframe thead th {\n",
       "        text-align: right;\n",
       "    }\n",
       "</style>\n",
       "<table border=\"1\" class=\"dataframe\">\n",
       "  <thead>\n",
       "    <tr style=\"text-align: right;\">\n",
       "      <th></th>\n",
       "      <th>Sentence #</th>\n",
       "      <th>Word</th>\n",
       "      <th>POS</th>\n",
       "      <th>Tag</th>\n",
       "    </tr>\n",
       "  </thead>\n",
       "  <tbody>\n",
       "    <tr>\n",
       "      <th>0</th>\n",
       "      <td>Sentence: 1</td>\n",
       "      <td>Thousands</td>\n",
       "      <td>NNS</td>\n",
       "      <td>O</td>\n",
       "    </tr>\n",
       "    <tr>\n",
       "      <th>1</th>\n",
       "      <td>Sentence: 1</td>\n",
       "      <td>of</td>\n",
       "      <td>IN</td>\n",
       "      <td>O</td>\n",
       "    </tr>\n",
       "    <tr>\n",
       "      <th>2</th>\n",
       "      <td>Sentence: 1</td>\n",
       "      <td>demonstrators</td>\n",
       "      <td>NNS</td>\n",
       "      <td>O</td>\n",
       "    </tr>\n",
       "    <tr>\n",
       "      <th>3</th>\n",
       "      <td>Sentence: 1</td>\n",
       "      <td>have</td>\n",
       "      <td>VBP</td>\n",
       "      <td>O</td>\n",
       "    </tr>\n",
       "    <tr>\n",
       "      <th>4</th>\n",
       "      <td>Sentence: 1</td>\n",
       "      <td>marched</td>\n",
       "      <td>VBN</td>\n",
       "      <td>O</td>\n",
       "    </tr>\n",
       "    <tr>\n",
       "      <th>...</th>\n",
       "      <td>...</td>\n",
       "      <td>...</td>\n",
       "      <td>...</td>\n",
       "      <td>...</td>\n",
       "    </tr>\n",
       "    <tr>\n",
       "      <th>1048570</th>\n",
       "      <td>Sentence: 47959</td>\n",
       "      <td>they</td>\n",
       "      <td>PRP</td>\n",
       "      <td>O</td>\n",
       "    </tr>\n",
       "    <tr>\n",
       "      <th>1048571</th>\n",
       "      <td>Sentence: 47959</td>\n",
       "      <td>responded</td>\n",
       "      <td>VBD</td>\n",
       "      <td>O</td>\n",
       "    </tr>\n",
       "    <tr>\n",
       "      <th>1048572</th>\n",
       "      <td>Sentence: 47959</td>\n",
       "      <td>to</td>\n",
       "      <td>TO</td>\n",
       "      <td>O</td>\n",
       "    </tr>\n",
       "    <tr>\n",
       "      <th>1048573</th>\n",
       "      <td>Sentence: 47959</td>\n",
       "      <td>the</td>\n",
       "      <td>DT</td>\n",
       "      <td>O</td>\n",
       "    </tr>\n",
       "    <tr>\n",
       "      <th>1048574</th>\n",
       "      <td>Sentence: 47959</td>\n",
       "      <td>attack</td>\n",
       "      <td>NN</td>\n",
       "      <td>O</td>\n",
       "    </tr>\n",
       "  </tbody>\n",
       "</table>\n",
       "<p>1048575 rows × 4 columns</p>\n",
       "</div>"
      ],
      "text/plain": [
       "              Sentence #           Word  POS Tag\n",
       "0            Sentence: 1      Thousands  NNS   O\n",
       "1            Sentence: 1             of   IN   O\n",
       "2            Sentence: 1  demonstrators  NNS   O\n",
       "3            Sentence: 1           have  VBP   O\n",
       "4            Sentence: 1        marched  VBN   O\n",
       "...                  ...            ...  ...  ..\n",
       "1048570  Sentence: 47959           they  PRP   O\n",
       "1048571  Sentence: 47959      responded  VBD   O\n",
       "1048572  Sentence: 47959             to   TO   O\n",
       "1048573  Sentence: 47959            the   DT   O\n",
       "1048574  Sentence: 47959         attack   NN   O\n",
       "\n",
       "[1048575 rows x 4 columns]"
      ]
     },
     "execution_count": 4,
     "metadata": {},
     "output_type": "execute_result"
    }
   ],
   "source": [
    "# Fill missing values in 'Sentence #' column using forward fill method\n",
    "df['Sentence #'] = df['Sentence #'].ffill(axis=0)\n",
    "# Display the DataFrame after filling missing values\n",
    "df"
   ]
  },
  {
   "cell_type": "code",
   "execution_count": 5,
   "id": "5ba224e9-3968-45a8-969d-9756608ee96f",
   "metadata": {},
   "outputs": [
    {
     "name": "stdout",
     "output_type": "stream",
     "text": [
      "<class 'pandas.core.frame.DataFrame'>\n",
      "RangeIndex: 1048575 entries, 0 to 1048574\n",
      "Data columns (total 4 columns):\n",
      " #   Column      Non-Null Count    Dtype \n",
      "---  ------      --------------    ----- \n",
      " 0   Sentence #  1048575 non-null  object\n",
      " 1   Word        1048575 non-null  object\n",
      " 2   POS         1048575 non-null  object\n",
      " 3   Tag         1048575 non-null  object\n",
      "dtypes: object(4)\n",
      "memory usage: 32.0+ MB\n"
     ]
    }
   ],
   "source": [
    "df.info()"
   ]
  },
  {
   "cell_type": "markdown",
   "id": "ba1b2403-ccfb-4974-9a0e-c8d3e430d9f4",
   "metadata": {},
   "source": [
    "## Data Definition\n",
    "\n",
    "Based on the provided DataFrame information:\n",
    "\n",
    "    - `Sentence #`: Represents the identifier for each sentence in the dataset. Each sentence is assigned a unique sentence number. This column contains non-null values of type object (string).\n",
    "    \n",
    "    - `Word`: Contains the individual words or tokens present in the sentences. This column consists of non-null values of type object (string).\n",
    "    \n",
    "    - `POS`: Stands for Part-of-Speech, indicating the grammatical category of each word or token. This column contains non-null values of type object (string).\n",
    "    \n",
    "    - `Tag`: Represents the named entity tag associated with each word or token. This column contains non-null values of type object (string).\n",
    "    \n",
    "    The dataset contains a total of 1048575 entries and 4 columns. All columns are of type object (string). The memory usage for the DataFrame is approximately 32.0+ MB.\n",
    "\n",
    "  - **Tag Definition**:\n",
    "  - `geo`: Represents a geographical entity.\n",
    "  - `org`: Represents an organization entity.\n",
    "  - `per`: Represents a person entity.\n",
    "  - `gpe`: Represents a geopolitical entity.\n",
    "  - `tim`: Represents a time indicator entity.\n",
    "  - `art`: Represents an artifact entity.\n",
    "  - `eve`: Represents an event entity.\n",
    "  - `nat`: Represents a natural phenomenon entity.\n",
    "  - `O`: Assigned if a word doesn't belong to any entity."
   ]
  },
  {
   "cell_type": "markdown",
   "id": "f2f941d1-2292-405f-a754-4b20cbb0a1c6",
   "metadata": {},
   "source": [
    "## Data Preparation"
   ]
  },
  {
   "cell_type": "code",
   "execution_count": 8,
   "id": "38f8c0aa-dbd2-406f-9bef-dc33cd02d8fb",
   "metadata": {},
   "outputs": [],
   "source": [
    "import pandas as pd\n",
    "import torch\n",
    "import torch.nn as nn\n",
    "import torch.optim as optim\n",
    "from torch.utils.data import Dataset, DataLoader\n",
    "from sklearn.model_selection import train_test_split\n",
    "import matplotlib.pyplot as plt\n",
    "import torch.nn.utils.rnn as rnn_utils\n",
    "import numpy as np\n",
    "import gensim"
   ]
  },
  {
   "cell_type": "markdown",
   "id": "a014a720-7674-4923-9e7c-b14366712722",
   "metadata": {},
   "source": [
    "The `NERDataset` class loads NER data from a CSV file, organizes it into sentences, and converts words and tags into numerical indices for model training. It's a vital part of the NER pipeline, simplifying data handling for model training."
   ]
  },
  {
   "cell_type": "code",
   "execution_count": 9,
   "id": "95ef76a6-4325-41f5-b075-f8c843d60e4a",
   "metadata": {},
   "outputs": [],
   "source": [
    "# Define a custom dataset class for the NER data\n",
    "class NERDataset(Dataset):\n",
    "    def __init__(self, filepath, word_embeddings):\n",
    "        self.data = pd.read_csv(filepath, encoding='latin1').fillna(method='ffill')\n",
    "        \n",
    "        # Create a list of unique words and tags\n",
    "        self.words = list(set(self.data[\"Word\"].values))\n",
    "        self.tags = list(set(self.data[\"Tag\"].values))\n",
    "        \n",
    "        # Create dictionaries for mapping words and tags to integers\n",
    "        self.word2idx = {w: i+1 for i, w in enumerate(self.words)}\n",
    "        self.tag2idx = {t: i for i, t in enumerate(self.tags)}\n",
    "        \n",
    "        self.sentences = self._get_sentences()\n",
    "        self.word_embeddings = word_embeddings\n",
    "    \n",
    "    def __len__(self):\n",
    "        return len(self.sentences)\n",
    "    \n",
    "    def __getitem__(self, index):\n",
    "        sentence = self.sentences[index]\n",
    "        words = [word[0] for word in sentence]\n",
    "        tags = [word[1] for word in sentence]\n",
    "        \n",
    "        # Convert words and tags to numerical values using the dictionaries\n",
    "        x = [self.word2idx.get(w, 0) for w in words]  # Use 0 for unknown words\n",
    "        y = [self.tag2idx[t] for t in tags]\n",
    "        \n",
    "        return torch.tensor(x), torch.tensor(y)\n",
    "    \n",
    "    def _get_sentences(self):\n",
    "        # Group the data by sentence number\n",
    "        grouped = self.data.groupby(\"Sentence #\")\n",
    "        sentences = []\n",
    "        for _, group in grouped:\n",
    "            words = group[\"Word\"].values.tolist()\n",
    "            tags = group[\"Tag\"].values.tolist()\n",
    "            sentence = list(zip(words, tags))\n",
    "            sentences.append(sentence)\n",
    "        return sentences"
   ]
  },
  {
   "cell_type": "markdown",
   "id": "c42fa086-8cf1-4087-8e80-9feb5ba4aea5",
   "metadata": {},
   "source": [
    "The `load_glove_embeddings` function reads pretrained GloVe word embeddings from a file and stores them in a dictionary, mapping each word to its corresponding embedding vector."
   ]
  },
  {
   "cell_type": "code",
   "execution_count": 11,
   "id": "a027223d-a01c-4d8e-ae57-436c00ad1e39",
   "metadata": {},
   "outputs": [],
   "source": [
    "# Load pretrained GloVe embeddings\n",
    "def load_glove_embeddings(file_path):\n",
    "    embeddings_index = {}\n",
    "    with open(file_path, 'r', encoding='utf-8') as f:\n",
    "        for line in f:\n",
    "            values = line.split()\n",
    "            word = values[0]\n",
    "            coefs = np.asarray(values[1:], dtype='float32')\n",
    "            embeddings_index[word] = coefs\n",
    "    return embeddings_index"
   ]
  },
  {
   "cell_type": "code",
   "execution_count": 20,
   "id": "c12e74c1-0e45-479d-9f9b-ddf4933c8f1e",
   "metadata": {},
   "outputs": [],
   "source": [
    "# Define hyperparameters and train the model\n",
    "BATCH_SIZE = 32\n",
    "HIDDEN_DIM = 128  # Hidden dimension\n",
    "OUTPUT_DIM = len(dataset.tags)  # Output dimension\n",
    "LEARNING_RATE = 0.01\n",
    "EPOCHS = 100"
   ]
  },
  {
   "cell_type": "code",
   "execution_count": 12,
   "id": "2dd126ee-6c8d-4737-b385-e3ec8302ac7a",
   "metadata": {},
   "outputs": [
    {
     "name": "stderr",
     "output_type": "stream",
     "text": [
      "C:\\Users\\hp\\AppData\\Local\\Temp\\ipykernel_7072\\3023295864.py:6: DeprecationWarning: Call to deprecated `glove2word2vec` (KeyedVectors.load_word2vec_format(.., binary=False, no_header=True) loads GLoVE text vectors.).\n",
      "  glove2word2vec(glove_input_file, word2vec_output_file)\n"
     ]
    }
   ],
   "source": [
    "from gensim.scripts.glove2word2vec import glove2word2vec\n",
    "\n",
    "# Convert GloVe model to Word2Vec format\n",
    "glove_input_file = 'glove.6B.100d.txt' \n",
    "word2vec_output_file = 'glove.6B.100d.word2vec.txt'\n",
    "glove2word2vec(glove_input_file, word2vec_output_file)\n",
    "\n",
    "# Load the converted GloVe model in Word2Vec format\n",
    "word_embeddings = gensim.models.KeyedVectors.load_word2vec_format(word2vec_output_file, binary=False)"
   ]
  },
  {
   "cell_type": "code",
   "execution_count": 13,
   "id": "56999a1f-99a9-43b5-9524-023af6dd7689",
   "metadata": {},
   "outputs": [],
   "source": [
    "# Load the dataset\n",
    "dataset = NERDataset(\"ner_dataset.csv\", word_embeddings)"
   ]
  },
  {
   "cell_type": "code",
   "execution_count": 16,
   "id": "62b7d1b1-f3cb-4171-92d2-589fab988e24",
   "metadata": {},
   "outputs": [],
   "source": [
    "def collate_fn(batch):\n",
    "    # Sort the batch by length for efficient padding\n",
    "    batch = sorted(batch, key=lambda x: len(x[0]), reverse=True)\n",
    "    # Unpack the batch\n",
    "    inputs, targets = zip(*batch)\n",
    "    # Pad sequences to have equal length\n",
    "    inputs = rnn_utils.pad_sequence(inputs, batch_first=True, padding_value=0)\n",
    "    targets = rnn_utils.pad_sequence(targets, batch_first=True, padding_value=0)\n",
    "    return inputs, targets"
   ]
  },
  {
   "cell_type": "code",
   "execution_count": 17,
   "id": "3f776c7d-9299-4503-a987-410050682cdc",
   "metadata": {},
   "outputs": [],
   "source": [
    "# Split the dataset into training, validation, and test sets\n",
    "train_data, test_data = train_test_split(dataset, test_size=0.2, random_state=42)\n",
    "train_data, val_data = train_test_split(train_data, test_size=0.2, random_state=42)\n",
    "\n",
    "train_loader = DataLoader(train_data, batch_size=BATCH_SIZE, shuffle=True, collate_fn=collate_fn)\n",
    "val_loader = DataLoader(val_data, batch_size=BATCH_SIZE, collate_fn=collate_fn)\n",
    "test_loader = DataLoader(test_data, batch_size=BATCH_SIZE, collate_fn=collate_fn)"
   ]
  },
  {
   "cell_type": "markdown",
   "id": "73bd22a5-7b54-4af3-bb36-4f280c0fdb50",
   "metadata": {},
   "source": [
    "## Simple BiLSTM-based NER model with pretrained word embeddings"
   ]
  },
  {
   "cell_type": "code",
   "execution_count": 14,
   "id": "7d21e5a0-2396-4949-a370-88f0fcce532d",
   "metadata": {},
   "outputs": [],
   "source": [
    "# Define a simple BiLSTM-based NER model with pretrained word embeddings\n",
    "class NERModel(nn.Module):\n",
    "    def __init__(self, word_embeddings, hidden_dim, output_dim, bidirectional=True):\n",
    "        super().__init__()\n",
    "        \n",
    "        self.embedding_dim = word_embeddings.vector_size\n",
    "        self.embedding = nn.Embedding.from_pretrained(torch.FloatTensor(word_embeddings.vectors))\n",
    "        self.embedding.weight.requires_grad = False  # Freeze embedding layer\n",
    "        \n",
    "        self.lstm = nn.LSTM(self.embedding_dim, hidden_dim, bidirectional=bidirectional, batch_first=True)\n",
    "        self.fc = nn.Linear(hidden_dim * 2 if bidirectional else hidden_dim, output_dim)\n",
    "    \n",
    "    def forward(self, x):\n",
    "        embedded = self.embedding(x)\n",
    "        output, _ = self.lstm(embedded)\n",
    "        output = self.fc(output)\n",
    "        return output"
   ]
  },
  {
   "cell_type": "markdown",
   "id": "b16da8fa-f491-4dc7-b4c4-4b000b72fd60",
   "metadata": {},
   "source": [
    "### MCO - Model Criterion Optimizer"
   ]
  },
  {
   "cell_type": "code",
   "execution_count": 21,
   "id": "ae12851f-f0ca-435e-8151-7e4dbcad4c4e",
   "metadata": {},
   "outputs": [],
   "source": [
    "# Define the model\n",
    "model = NERModel(word_embeddings, HIDDEN_DIM, OUTPUT_DIM)\n",
    "# Define optimizer with weight decay\n",
    "optimizer = optim.AdamW(model.parameters(), lr=LEARNING_RATE, weight_decay=0.01)\n",
    "# Define Criterion\n",
    "criterion = nn.CrossEntropyLoss()"
   ]
  },
  {
   "cell_type": "markdown",
   "id": "f4e9dfd3-bb1c-4ee9-947a-d1dd2384fd6d",
   "metadata": {},
   "source": [
    "## Training Loop"
   ]
  },
  {
   "cell_type": "code",
   "execution_count": 22,
   "id": "f47cec7a-a7ea-4a78-8cb5-f7fdfd1aacf7",
   "metadata": {},
   "outputs": [
    {
     "name": "stdout",
     "output_type": "stream",
     "text": [
      "Epoch 1, Train Loss: 0.1691, Val Loss: 0.1117\n",
      "Epoch 2, Train Loss: 0.0974, Val Loss: 0.0975\n",
      "Epoch 3, Train Loss: 0.0813, Val Loss: 0.0946\n",
      "Epoch 4, Train Loss: 0.0723, Val Loss: 0.0952\n",
      "Epoch 5, Train Loss: 0.0664, Val Loss: 0.0977\n",
      "Epoch 6, Train Loss: 0.0620, Val Loss: 0.0937\n",
      "Epoch 7, Train Loss: 0.0588, Val Loss: 0.0966\n",
      "Epoch 8, Train Loss: 0.0562, Val Loss: 0.0958\n",
      "Epoch 9, Train Loss: 0.0527, Val Loss: 0.0969\n",
      "Epoch 10, Train Loss: 0.0516, Val Loss: 0.0974\n",
      "Epoch 11, Train Loss: 0.0505, Val Loss: 0.1001\n",
      "Epoch 12, Train Loss: 0.0486, Val Loss: 0.0975\n",
      "Epoch 13, Train Loss: 0.0472, Val Loss: 0.1017\n",
      "Epoch 14, Train Loss: 0.0461, Val Loss: 0.1017\n",
      "Epoch 15, Train Loss: 0.0453, Val Loss: 0.1012\n",
      "Epoch 16, Train Loss: 0.0447, Val Loss: 0.0998\n",
      "Epoch 17, Train Loss: 0.0438, Val Loss: 0.1019\n",
      "Epoch 18, Train Loss: 0.0429, Val Loss: 0.1008\n",
      "Epoch 19, Train Loss: 0.0416, Val Loss: 0.1027\n",
      "Epoch 20, Train Loss: 0.0425, Val Loss: 0.1017\n",
      "Epoch 21, Train Loss: 0.0412, Val Loss: 0.1071\n",
      "Epoch 22, Train Loss: 0.0415, Val Loss: 0.1051\n",
      "Epoch 23, Train Loss: 0.0403, Val Loss: 0.1036\n",
      "Epoch 24, Train Loss: 0.0399, Val Loss: 0.1040\n",
      "Epoch 25, Train Loss: 0.0389, Val Loss: 0.1047\n",
      "Epoch 26, Train Loss: 0.0399, Val Loss: 0.1034\n",
      "Epoch 27, Train Loss: 0.0386, Val Loss: 0.1028\n",
      "Epoch 28, Train Loss: 0.0385, Val Loss: 0.1069\n",
      "Epoch 29, Train Loss: 0.0380, Val Loss: 0.1033\n",
      "Epoch 30, Train Loss: 0.0381, Val Loss: 0.1043\n",
      "Epoch 31, Train Loss: 0.0380, Val Loss: 0.1065\n",
      "Epoch 32, Train Loss: 0.0379, Val Loss: 0.1065\n",
      "Epoch 33, Train Loss: 0.0379, Val Loss: 0.1050\n",
      "Epoch 34, Train Loss: 0.0365, Val Loss: 0.1064\n",
      "Epoch 35, Train Loss: 0.0373, Val Loss: 0.1032\n",
      "Epoch 36, Train Loss: 0.0362, Val Loss: 0.1053\n",
      "Epoch 37, Train Loss: 0.0368, Val Loss: 0.1065\n",
      "Epoch 38, Train Loss: 0.0357, Val Loss: 0.1050\n",
      "Epoch 39, Train Loss: 0.0362, Val Loss: 0.1077\n",
      "Epoch 40, Train Loss: 0.0356, Val Loss: 0.1070\n",
      "Epoch 41, Train Loss: 0.0366, Val Loss: 0.1051\n",
      "Epoch 42, Train Loss: 0.0347, Val Loss: 0.1062\n",
      "Epoch 43, Train Loss: 0.0362, Val Loss: 0.1071\n",
      "Epoch 44, Train Loss: 0.0350, Val Loss: 0.1085\n",
      "Epoch 45, Train Loss: 0.0359, Val Loss: 0.1079\n",
      "Epoch 46, Train Loss: 0.0337, Val Loss: 0.1052\n",
      "Epoch 47, Train Loss: 0.0347, Val Loss: 0.1048\n",
      "Epoch 48, Train Loss: 0.0351, Val Loss: 0.1078\n",
      "Epoch 49, Train Loss: 0.0337, Val Loss: 0.1071\n",
      "Epoch 50, Train Loss: 0.0346, Val Loss: 0.1061\n",
      "Epoch 51, Train Loss: 0.0337, Val Loss: 0.1078\n",
      "Epoch 52, Train Loss: 0.0340, Val Loss: 0.1074\n",
      "Epoch 53, Train Loss: 0.0339, Val Loss: 0.1088\n",
      "Epoch 54, Train Loss: 0.0343, Val Loss: 0.1056\n",
      "Epoch 55, Train Loss: 0.0336, Val Loss: 0.1048\n",
      "Epoch 56, Train Loss: 0.0331, Val Loss: 0.1092\n",
      "Epoch 57, Train Loss: 0.0335, Val Loss: 0.1052\n",
      "Epoch 58, Train Loss: 0.0330, Val Loss: 0.1100\n",
      "Epoch 59, Train Loss: 0.0341, Val Loss: 0.1073\n",
      "Epoch 60, Train Loss: 0.0335, Val Loss: 0.1070\n",
      "Epoch 61, Train Loss: 0.0326, Val Loss: 0.1092\n",
      "Epoch 62, Train Loss: 0.0330, Val Loss: 0.1067\n",
      "Epoch 63, Train Loss: 0.0333, Val Loss: 0.1072\n",
      "Epoch 64, Train Loss: 0.0327, Val Loss: 0.1076\n",
      "Epoch 65, Train Loss: 0.0327, Val Loss: 0.1079\n",
      "Epoch 66, Train Loss: 0.0322, Val Loss: 0.1081\n",
      "Epoch 67, Train Loss: 0.0328, Val Loss: 0.1088\n",
      "Epoch 68, Train Loss: 0.0316, Val Loss: 0.1082\n",
      "Epoch 69, Train Loss: 0.0330, Val Loss: 0.1078\n",
      "Epoch 70, Train Loss: 0.0322, Val Loss: 0.1088\n",
      "Epoch 71, Train Loss: 0.0322, Val Loss: 0.1085\n",
      "Epoch 72, Train Loss: 0.0318, Val Loss: 0.1086\n",
      "Epoch 73, Train Loss: 0.0334, Val Loss: 0.1080\n",
      "Epoch 74, Train Loss: 0.0301, Val Loss: 0.1107\n",
      "Epoch 75, Train Loss: 0.0322, Val Loss: 0.1104\n",
      "Epoch 76, Train Loss: 0.0321, Val Loss: 0.1094\n",
      "Epoch 77, Train Loss: 0.0314, Val Loss: 0.1083\n",
      "Epoch 78, Train Loss: 0.0315, Val Loss: 0.1104\n",
      "Epoch 79, Train Loss: 0.0315, Val Loss: 0.1101\n",
      "Epoch 80, Train Loss: 0.0307, Val Loss: 0.1099\n",
      "Epoch 81, Train Loss: 0.0320, Val Loss: 0.1093\n",
      "Epoch 82, Train Loss: 0.0315, Val Loss: 0.1088\n",
      "Epoch 83, Train Loss: 0.0299, Val Loss: 0.1104\n",
      "Epoch 84, Train Loss: 0.0318, Val Loss: 0.1102\n",
      "Epoch 85, Train Loss: 0.0311, Val Loss: 0.1096\n",
      "Epoch 86, Train Loss: 0.0318, Val Loss: 0.1078\n",
      "Epoch 87, Train Loss: 0.0311, Val Loss: 0.1092\n",
      "Epoch 88, Train Loss: 0.0310, Val Loss: 0.1087\n",
      "Epoch 89, Train Loss: 0.0305, Val Loss: 0.1088\n",
      "Epoch 90, Train Loss: 0.0303, Val Loss: 0.1109\n",
      "Epoch 91, Train Loss: 0.0308, Val Loss: 0.1108\n",
      "Epoch 92, Train Loss: 0.0308, Val Loss: 0.1108\n",
      "Epoch 93, Train Loss: 0.0307, Val Loss: 0.1088\n",
      "Epoch 94, Train Loss: 0.0304, Val Loss: 0.1111\n",
      "Epoch 95, Train Loss: 0.0307, Val Loss: 0.1114\n",
      "Epoch 96, Train Loss: 0.0301, Val Loss: 0.1110\n",
      "Epoch 97, Train Loss: 0.0302, Val Loss: 0.1079\n",
      "Epoch 98, Train Loss: 0.0300, Val Loss: 0.1106\n",
      "Epoch 99, Train Loss: 0.0307, Val Loss: 0.1099\n",
      "Epoch 100, Train Loss: 0.0300, Val Loss: 0.1090\n"
     ]
    }
   ],
   "source": [
    "# Training loop\n",
    "train_losses = []\n",
    "val_losses = []\n",
    "\n",
    "best_val_loss = float('inf')  # Inisialisasi dengan nilai tak terhingga\n",
    "best_model_state = None\n",
    "\n",
    "for epoch in range(EPOCHS):\n",
    "    train_loss = 0.0\n",
    "    val_loss = 0.0\n",
    "    model.train()\n",
    "    for inputs, targets in train_loader:  # Mengambil inputs dan targets langsung dari train_loader\n",
    "        optimizer.zero_grad()\n",
    "        output = model(inputs)\n",
    "        loss = criterion(output.view(-1, OUTPUT_DIM), targets.view(-1))\n",
    "        loss.backward()\n",
    "        optimizer.step()\n",
    "        train_loss += loss.item() * inputs.size(0)\n",
    "        \n",
    "    train_loss /= len(train_data)\n",
    "    train_losses.append(train_loss)\n",
    "    \n",
    "    model.eval()\n",
    "    with torch.no_grad():\n",
    "        for inputs_val, targets_val in val_loader:  # Mengambil inputs dan targets langsung dari val_loader\n",
    "            output_val = model(inputs_val)\n",
    "            loss_val = criterion(output_val.view(-1, OUTPUT_DIM), targets_val.view(-1))\n",
    "            val_loss += loss_val.item() * inputs_val.size(0)\n",
    "        val_loss /= len(val_data)\n",
    "        val_losses.append(val_loss)\n",
    "        \n",
    "        # Simpan model jika val_loss saat ini lebih baik daripada yang sebelumnya\n",
    "        if val_loss < best_val_loss:\n",
    "            best_val_loss = val_loss\n",
    "            best_model_state = model.state_dict()\n",
    "\n",
    "    print(f\"Epoch {epoch+1}, Train Loss: {train_loss:.4f}, Val Loss: {val_loss:.4f}\")"
   ]
  },
  {
   "cell_type": "code",
   "execution_count": 23,
   "id": "ce567ea3-c71f-4f1f-9ed0-2e41b910b9e5",
   "metadata": {},
   "outputs": [
    {
     "data": {
      "image/png": "[encoded data removed]",
      "text/plain": [
       "<Figure size 1000x500 with 1 Axes>"
      ]
     },
     "metadata": {},
     "output_type": "display_data"
    }
   ],
   "source": [
    "# Plot learning curves\n",
    "plt.figure(figsize=(10, 5))\n",
    "plt.plot(train_losses, label='Train Loss')\n",
    "plt.plot(val_losses, label='Validation Loss')\n",
    "plt.xlabel('Epochs')\n",
    "plt.ylabel('Loss')\n",
    "plt.title('Training and Validation Loss')\n",
    "plt.legend()\n",
    "plt.show()\n",
    "\n",
    "# Save the best model\n",
    "torch.save(best_model_state, 'best_ner_model_glove.pth')"
   ]
  },
  {
   "cell_type": "code",
   "execution_count": 25,
   "id": "09dacb41-ec9f-4aab-a923-9f963de3e7ae",
   "metadata": {},
   "outputs": [
    {
     "name": "stdout",
     "output_type": "stream",
     "text": [
      "Jeff Bezos is the founder of Amazon\n",
      "['B-per', 'B-geo', 'O', 'O', 'O', 'O', 'B-geo']\n"
     ]
    }
   ],
   "source": [
    "# Load the best model\n",
    "best_model = NERModel(word_embeddings, HIDDEN_DIM, OUTPUT_DIM)\n",
    "best_model.load_state_dict(torch.load('best_ner_model_glove.pth'))\n",
    "\n",
    "# Function to predict tags for a given sentence\n",
    "def predict_tags(sentence, model):\n",
    "    words = sentence.split()\n",
    "    x = [dataset.word2idx.get(word, 0) for word in words]\n",
    "    x = torch.tensor(x).unsqueeze(0)\n",
    "    with torch.no_grad():\n",
    "        output = model(x)\n",
    "        _, predicted_tags = torch.max(output, dim=2)\n",
    "    predicted_tags = predicted_tags.squeeze().tolist()\n",
    "    predicted_labels = [dataset.tags[idx] for idx in predicted_tags]\n",
    "    return predicted_labels\n",
    "\n",
    "# Test prediction on a sample sentence\n",
    "sample_sentence = \"Jeff Bezos is the founder of Amazon\"\n",
    "predicted_tags = predict_tags(sample_sentence, best_model)\n",
    "print(sample_sentence)\n",
    "print(predicted_tags)"
   ]
  },
  {
   "cell_type": "code",
   "execution_count": null,
   "id": "1f269a53-3b92-46f4-8638-520f163d68d5",
   "metadata": {},
   "outputs": [],
   "source": []
  }
 ],
 "metadata": {
  "kernelspec": {
   "display_name": "Python 3 (ipykernel)",
   "language": "python",
   "name": "python3"
  },
  "language_info": {
   "codemirror_mode": {
    "name": "ipython",
    "version": 3
   },
   "file_extension": ".py",
   "mimetype": "text/x-python",
   "name": "python",
   "nbconvert_exporter": "python",
   "pygments_lexer": "ipython3",
   "version": "3.10.9"
  }
 },
 "nbformat": 4,
 "nbformat_minor": 5
}
