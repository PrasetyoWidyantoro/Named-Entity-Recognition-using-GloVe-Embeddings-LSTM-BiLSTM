{
 "cells": [
  {
   "cell_type": "markdown",
   "id": "7450d6cf-5a36-4cb0-b705-b62d68192a68",
   "metadata": {},
   "source": [
    "# Named Entity Recognition\n",
    "\n",
    "Named Entity Recognition (NER) is a component of the information extraction process aimed at identifying and categorizing named entities within a text. These named entities can include organizations, individuals, locations, times, and more. Through NER, we can recognize and classify portions of text containing named entities, thereby providing a better understanding of the information contained within the text."
   ]
  },
  {
   "cell_type": "markdown",
   "id": "3d8f367f-5d2d-4df4-bc62-c40fcebe0105",
   "metadata": {},
   "source": [
    "### Business Problem:\n",
    "A large technology-based company faces a challenge in efficiently extracting important information from large volumes of text data, including documents, news articles, and social media posts. The company needs to identify entities such as person names, company names, geographic locations, and dates from the text accurately and quickly to gain insights and make informed decisions.\n",
    "\n",
    "### Business Metrics:\n",
    "To evaluate the success of the NER solution, the company can track the following business metrics:\n",
    "1. **Accuracy**: The ability of the NER model to correctly identify entities in the text.\n",
    "2. **Efficiency**: The time taken by the NER system to process a given amount of text and produce entity recognition results.\n",
    "3. **Scalability**: The NER solution's ability to handle increasing amounts of text data without compromising performance.\n",
    "4. **Precision and Recall**: Measures of the NER model's ability to accurately identify relevant entities (precision) and retrieve all relevant entities (recall) from the text.\n",
    "\n",
    "### Solution:\n",
    "To address the business problem, the company decides to develop an NER system using an LSTM-based neural network architecture. Here's how the solution will be implemented:\n",
    "1. **Data Preparation**: The company collects and preprocesses text data for training and testing the NER model. The text data is cleaned, tokenized, and annotated with entity labels.\n",
    "2. **Model Development**: The NER model is built using an LSTM layer to learn the sequential patterns and context of the text data. The model is trained on annotated data to recognize entities in the text.\n",
    "3. **Evaluation**: The performance of the NER model is evaluated using metrics such as accuracy, precision, recall, and F1-score on a separate test dataset.\n",
    "4. **Deployment**: Once trained and evaluated, the NER model is deployed into the company's production environment. It is integrated into existing text processing pipelines to automatically extract entities from incoming text data.\n",
    "5. **Monitoring and Iteration**: The deployed NER system is monitored for performance and fine-tuned as needed to improve accuracy and efficiency. This includes retraining the model with additional annotated data and updating the model architecture based on advancements in NER techniques."
   ]
  },
  {
   "cell_type": "code",
   "execution_count": 14,
   "id": "0fc318a0-5f28-4cf9-97bc-23852f176434",
   "metadata": {},
   "outputs": [],
   "source": [
    "import numpy as np \n",
    "import pandas as pd \n",
    "import random \n",
    "from sklearn.metrics import classification_report\n",
    "import os\n",
    "from sklearn.model_selection import train_test_split"
   ]
  },
  {
   "cell_type": "code",
   "execution_count": 15,
   "id": "74b30af3-98de-44fe-957b-8e0619e6a54d",
   "metadata": {},
   "outputs": [
    {
     "data": {
      "text/html": [
       "<div>\n",
       "<style scoped>\n",
       "    .dataframe tbody tr th:only-of-type {\n",
       "        vertical-align: middle;\n",
       "    }\n",
       "\n",
       "    .dataframe tbody tr th {\n",
       "        vertical-align: top;\n",
       "    }\n",
       "\n",
       "    .dataframe thead th {\n",
       "        text-align: right;\n",
       "    }\n",
       "</style>\n",
       "<table border=\"1\" class=\"dataframe\">\n",
       "  <thead>\n",
       "    <tr style=\"text-align: right;\">\n",
       "      <th></th>\n",
       "      <th>Sentence #</th>\n",
       "      <th>Word</th>\n",
       "      <th>POS</th>\n",
       "      <th>Tag</th>\n",
       "    </tr>\n",
       "  </thead>\n",
       "  <tbody>\n",
       "    <tr>\n",
       "      <th>0</th>\n",
       "      <td>Sentence: 1</td>\n",
       "      <td>Thousands</td>\n",
       "      <td>NNS</td>\n",
       "      <td>O</td>\n",
       "    </tr>\n",
       "    <tr>\n",
       "      <th>1</th>\n",
       "      <td>NaN</td>\n",
       "      <td>of</td>\n",
       "      <td>IN</td>\n",
       "      <td>O</td>\n",
       "    </tr>\n",
       "    <tr>\n",
       "      <th>2</th>\n",
       "      <td>NaN</td>\n",
       "      <td>demonstrators</td>\n",
       "      <td>NNS</td>\n",
       "      <td>O</td>\n",
       "    </tr>\n",
       "    <tr>\n",
       "      <th>3</th>\n",
       "      <td>NaN</td>\n",
       "      <td>have</td>\n",
       "      <td>VBP</td>\n",
       "      <td>O</td>\n",
       "    </tr>\n",
       "    <tr>\n",
       "      <th>4</th>\n",
       "      <td>NaN</td>\n",
       "      <td>marched</td>\n",
       "      <td>VBN</td>\n",
       "      <td>O</td>\n",
       "    </tr>\n",
       "  </tbody>\n",
       "</table>\n",
       "</div>"
      ],
      "text/plain": [
       "    Sentence #           Word  POS Tag\n",
       "0  Sentence: 1      Thousands  NNS   O\n",
       "1          NaN             of   IN   O\n",
       "2          NaN  demonstrators  NNS   O\n",
       "3          NaN           have  VBP   O\n",
       "4          NaN        marched  VBN   O"
      ]
     },
     "execution_count": 15,
     "metadata": {},
     "output_type": "execute_result"
    }
   ],
   "source": [
    "# read data\n",
    "df = pd.read_csv(\"ner_dataset.csv\", encoding=\"latin1\")\n",
    "# sanity check\n",
    "df.head()"
   ]
  },
  {
   "cell_type": "code",
   "execution_count": 16,
   "id": "8d58904e-94e1-4d06-bbd0-9e7f05ca5cb6",
   "metadata": {},
   "outputs": [
    {
     "data": {
      "text/plain": [
       "Sentence #    1000616\n",
       "Word                0\n",
       "POS                 0\n",
       "Tag                 0\n",
       "dtype: int64"
      ]
     },
     "execution_count": 16,
     "metadata": {},
     "output_type": "execute_result"
    }
   ],
   "source": [
    "# null value check\n",
    "df.isnull().sum()"
   ]
  },
  {
   "cell_type": "code",
   "execution_count": 17,
   "id": "ab54dea8-8677-40e5-84b2-2ae46e1c75ab",
   "metadata": {},
   "outputs": [
    {
     "data": {
      "text/html": [
       "<div>\n",
       "<style scoped>\n",
       "    .dataframe tbody tr th:only-of-type {\n",
       "        vertical-align: middle;\n",
       "    }\n",
       "\n",
       "    .dataframe tbody tr th {\n",
       "        vertical-align: top;\n",
       "    }\n",
       "\n",
       "    .dataframe thead th {\n",
       "        text-align: right;\n",
       "    }\n",
       "</style>\n",
       "<table border=\"1\" class=\"dataframe\">\n",
       "  <thead>\n",
       "    <tr style=\"text-align: right;\">\n",
       "      <th></th>\n",
       "      <th>Sentence #</th>\n",
       "      <th>Word</th>\n",
       "      <th>POS</th>\n",
       "      <th>Tag</th>\n",
       "    </tr>\n",
       "  </thead>\n",
       "  <tbody>\n",
       "    <tr>\n",
       "      <th>0</th>\n",
       "      <td>Sentence: 1</td>\n",
       "      <td>Thousands</td>\n",
       "      <td>NNS</td>\n",
       "      <td>O</td>\n",
       "    </tr>\n",
       "    <tr>\n",
       "      <th>1</th>\n",
       "      <td>Sentence: 1</td>\n",
       "      <td>of</td>\n",
       "      <td>IN</td>\n",
       "      <td>O</td>\n",
       "    </tr>\n",
       "    <tr>\n",
       "      <th>2</th>\n",
       "      <td>Sentence: 1</td>\n",
       "      <td>demonstrators</td>\n",
       "      <td>NNS</td>\n",
       "      <td>O</td>\n",
       "    </tr>\n",
       "    <tr>\n",
       "      <th>3</th>\n",
       "      <td>Sentence: 1</td>\n",
       "      <td>have</td>\n",
       "      <td>VBP</td>\n",
       "      <td>O</td>\n",
       "    </tr>\n",
       "    <tr>\n",
       "      <th>4</th>\n",
       "      <td>Sentence: 1</td>\n",
       "      <td>marched</td>\n",
       "      <td>VBN</td>\n",
       "      <td>O</td>\n",
       "    </tr>\n",
       "    <tr>\n",
       "      <th>...</th>\n",
       "      <td>...</td>\n",
       "      <td>...</td>\n",
       "      <td>...</td>\n",
       "      <td>...</td>\n",
       "    </tr>\n",
       "    <tr>\n",
       "      <th>1048570</th>\n",
       "      <td>Sentence: 47959</td>\n",
       "      <td>they</td>\n",
       "      <td>PRP</td>\n",
       "      <td>O</td>\n",
       "    </tr>\n",
       "    <tr>\n",
       "      <th>1048571</th>\n",
       "      <td>Sentence: 47959</td>\n",
       "      <td>responded</td>\n",
       "      <td>VBD</td>\n",
       "      <td>O</td>\n",
       "    </tr>\n",
       "    <tr>\n",
       "      <th>1048572</th>\n",
       "      <td>Sentence: 47959</td>\n",
       "      <td>to</td>\n",
       "      <td>TO</td>\n",
       "      <td>O</td>\n",
       "    </tr>\n",
       "    <tr>\n",
       "      <th>1048573</th>\n",
       "      <td>Sentence: 47959</td>\n",
       "      <td>the</td>\n",
       "      <td>DT</td>\n",
       "      <td>O</td>\n",
       "    </tr>\n",
       "    <tr>\n",
       "      <th>1048574</th>\n",
       "      <td>Sentence: 47959</td>\n",
       "      <td>attack</td>\n",
       "      <td>NN</td>\n",
       "      <td>O</td>\n",
       "    </tr>\n",
       "  </tbody>\n",
       "</table>\n",
       "<p>1048575 rows × 4 columns</p>\n",
       "</div>"
      ],
      "text/plain": [
       "              Sentence #           Word  POS Tag\n",
       "0            Sentence: 1      Thousands  NNS   O\n",
       "1            Sentence: 1             of   IN   O\n",
       "2            Sentence: 1  demonstrators  NNS   O\n",
       "3            Sentence: 1           have  VBP   O\n",
       "4            Sentence: 1        marched  VBN   O\n",
       "...                  ...            ...  ...  ..\n",
       "1048570  Sentence: 47959           they  PRP   O\n",
       "1048571  Sentence: 47959      responded  VBD   O\n",
       "1048572  Sentence: 47959             to   TO   O\n",
       "1048573  Sentence: 47959            the   DT   O\n",
       "1048574  Sentence: 47959         attack   NN   O\n",
       "\n",
       "[1048575 rows x 4 columns]"
      ]
     },
     "execution_count": 17,
     "metadata": {},
     "output_type": "execute_result"
    }
   ],
   "source": [
    "# Fill missing values in 'Sentence #' column using forward fill method\n",
    "df['Sentence #'] = df['Sentence #'].ffill(axis=0)\n",
    "# Display the DataFrame after filling missing values\n",
    "df"
   ]
  },
  {
   "cell_type": "code",
   "execution_count": 18,
   "id": "2d77c488-b1d7-47d7-82b1-929e8fa701fd",
   "metadata": {},
   "outputs": [
    {
     "name": "stdout",
     "output_type": "stream",
     "text": [
      "<class 'pandas.core.frame.DataFrame'>\n",
      "RangeIndex: 1048575 entries, 0 to 1048574\n",
      "Data columns (total 4 columns):\n",
      " #   Column      Non-Null Count    Dtype \n",
      "---  ------      --------------    ----- \n",
      " 0   Sentence #  1048575 non-null  object\n",
      " 1   Word        1048575 non-null  object\n",
      " 2   POS         1048575 non-null  object\n",
      " 3   Tag         1048575 non-null  object\n",
      "dtypes: object(4)\n",
      "memory usage: 32.0+ MB\n"
     ]
    }
   ],
   "source": [
    "df.info()"
   ]
  },
  {
   "cell_type": "markdown",
   "id": "44cc27b6-05dd-4cc1-a6e0-e4077ca33dcc",
   "metadata": {},
   "source": [
    "## Data Definition\n",
    "\n",
    "Based on the provided DataFrame information:\n",
    "\n",
    "    - `Sentence #`: Represents the identifier for each sentence in the dataset. Each sentence is assigned a unique sentence number. This column contains non-null values of type object (string).\n",
    "    \n",
    "    - `Word`: Contains the individual words or tokens present in the sentences. This column consists of non-null values of type object (string).\n",
    "    \n",
    "    - `POS`: Stands for Part-of-Speech, indicating the grammatical category of each word or token. This column contains non-null values of type object (string).\n",
    "    \n",
    "    - `Tag`: Represents the named entity tag associated with each word or token. This column contains non-null values of type object (string).\n",
    "    \n",
    "    The dataset contains a total of 1048575 entries and 4 columns. All columns are of type object (string). The memory usage for the DataFrame is approximately 32.0+ MB.\n",
    "\n",
    "  - **Tag Definition**:\n",
    "  - `geo`: Represents a geographical entity.\n",
    "  - `org`: Represents an organization entity.\n",
    "  - `per`: Represents a person entity.\n",
    "  - `gpe`: Represents a geopolitical entity.\n",
    "  - `tim`: Represents a time indicator entity.\n",
    "  - `art`: Represents an artifact entity.\n",
    "  - `eve`: Represents an event entity.\n",
    "  - `nat`: Represents a natural phenomenon entity.\n",
    "  - `O`: Assigned if a word doesn't belong to any entity."
   ]
  },
  {
   "cell_type": "markdown",
   "id": "12a0af62-7d5f-47b7-8ff6-9fc6dfc9550e",
   "metadata": {},
   "source": [
    "## Data Preparation"
   ]
  },
  {
   "cell_type": "code",
   "execution_count": 19,
   "id": "251627dd-eda2-423a-a1e6-48eb4d9f6388",
   "metadata": {},
   "outputs": [],
   "source": [
    "import pandas as pd\n",
    "import torch\n",
    "import torch.nn as nn\n",
    "import torch.optim as optim\n",
    "from torch.utils.data import Dataset, DataLoader\n",
    "from sklearn.model_selection import train_test_split\n",
    "import matplotlib.pyplot as plt\n",
    "import torch.nn.utils.rnn as rnn_utils\n",
    "import matplotlib.pyplot as plt"
   ]
  },
  {
   "cell_type": "code",
   "execution_count": 20,
   "id": "e924d0e0-2134-4c8e-9190-fb26fd257b77",
   "metadata": {},
   "outputs": [],
   "source": [
    "# Define a custom dataset class for the NER data\n",
    "class NERDataset(Dataset):\n",
    "    def __init__(self, filepath):\n",
    "        self.data = pd.read_csv(filepath, encoding='latin1').fillna(method='ffill')\n",
    "        \n",
    "        # Create a list of unique words and tags\n",
    "        self.words = list(set(self.data[\"Word\"].values))\n",
    "        self.tags = list(set(self.data[\"Tag\"].values))\n",
    "        \n",
    "        # Create dictionaries for mapping words and tags to integers\n",
    "        self.word2idx = {w: i+1 for i, w in enumerate(self.words)}\n",
    "        self.tag2idx = {t: i for i, t in enumerate(self.tags)}\n",
    "        \n",
    "        self.sentences = self._get_sentences()\n",
    "    \n",
    "    def __len__(self):\n",
    "        return len(self.sentences)\n",
    "    \n",
    "    def __getitem__(self, index):\n",
    "        sentence = self.sentences[index]\n",
    "        words = [word[0] for word in sentence]\n",
    "        tags = [word[1] for word in sentence]\n",
    "        \n",
    "        # Convert words and tags to numerical values using the dictionaries\n",
    "        x = [self.word2idx[w] for w in words]\n",
    "        y = [self.tag2idx[t] for t in tags]\n",
    "        \n",
    "        return torch.tensor(x), torch.tensor(y)\n",
    "    \n",
    "    def _get_sentences(self):\n",
    "        # Group the data by sentence number\n",
    "        grouped = self.data.groupby(\"Sentence #\")\n",
    "        sentences = []\n",
    "        for _, group in grouped:\n",
    "            words = group[\"Word\"].values.tolist()\n",
    "            tags = group[\"Tag\"].values.tolist()\n",
    "            sentence = list(zip(words, tags))\n",
    "            sentences.append(sentence)\n",
    "        return sentences"
   ]
  },
  {
   "cell_type": "code",
   "execution_count": 21,
   "id": "f17b9944-70aa-4d3e-9e71-4501f72faf66",
   "metadata": {},
   "outputs": [],
   "source": [
    "# Define a simple LSTM-based NER model\n",
    "class NERModel(nn.Module):\n",
    "    def __init__(self, vocab_size, embedding_dim, hidden_dim, output_dim):\n",
    "        super().__init__()\n",
    "        \n",
    "        self.embedding = nn.Embedding(vocab_size, embedding_dim)\n",
    "        self.lstm = nn.LSTM(embedding_dim, hidden_dim, batch_first=True)\n",
    "        self.fc = nn.Linear(hidden_dim, output_dim)\n",
    "    \n",
    "    def forward(self, x):\n",
    "        embedded = self.embedding(x)\n",
    "        output, _ = self.lstm(embedded)\n",
    "        output = self.fc(output)\n",
    "        return output"
   ]
  },
  {
   "cell_type": "code",
   "execution_count": 22,
   "id": "41ce5431-1501-4c66-8ef8-5f2856202b8e",
   "metadata": {},
   "outputs": [],
   "source": [
    "# Define collate function for DataLoader\n",
    "def collate_fn(batch):\n",
    "    x = [item[0] for item in batch]\n",
    "    y = [item[1] for item in batch]\n",
    "    \n",
    "    # Pad the sequences to the same length\n",
    "    x_padded = rnn_utils.pad_sequence(x, batch_first=True, padding_value=0)\n",
    "    y_padded = rnn_utils.pad_sequence(y, batch_first=True, padding_value=0)\n",
    "    \n",
    "    # Create a mask to ignore padding values in the loss calculation\n",
    "    x_mask = (x_padded != 0)\n",
    "    y_mask = (y_padded != 0)\n",
    "    \n",
    "    return x_padded, y_padded, x_mask, y_mask"
   ]
  },
  {
   "cell_type": "code",
   "execution_count": 23,
   "id": "adeba525-a0dd-4b3e-8966-b638a1f80c33",
   "metadata": {},
   "outputs": [],
   "source": [
    "# Define hyperparameters and train the model\n",
    "BATCH_SIZE = 32\n",
    "EMBEDDING_DIM = 64  # Increased embedding dimension\n",
    "HIDDEN_DIM = 128  # Increased hidden dimension\n",
    "LEARNING_RATE = 0.01  # Decreased learning rate\n",
    "EPOCHS = 5  # Increased number of epochs"
   ]
  },
  {
   "cell_type": "code",
   "execution_count": 24,
   "id": "eb5b5076-f2dd-4b66-8491-3a4c1f9dc020",
   "metadata": {},
   "outputs": [],
   "source": [
    "# Load the dataset\n",
    "dataset = NERDataset(\"ner_dataset.csv\")\n",
    "\n",
    "# Split the dataset into training, validation, and test sets\n",
    "train_data, test_data = train_test_split(dataset, test_size=0.2, random_state=42)\n",
    "train_data, val_data = train_test_split(train_data, test_size=0.2, random_state=42)\n",
    "\n",
    "train_loader = DataLoader(train_data, batch_size=BATCH_SIZE, shuffle=True, collate_fn=collate_fn)\n",
    "val_loader = DataLoader(val_data, batch_size=BATCH_SIZE, collate_fn=collate_fn)\n",
    "test_loader = DataLoader(test_data, batch_size=BATCH_SIZE, collate_fn=collate_fn)"
   ]
  },
  {
   "cell_type": "code",
   "execution_count": 25,
   "id": "5720cdce-17ef-47d4-a34c-afec5af3cb10",
   "metadata": {},
   "outputs": [],
   "source": [
    "# Define the model\n",
    "model = NERModel(len(dataset.words) + 1, EMBEDDING_DIM, HIDDEN_DIM, len(dataset.tags))\n",
    "\n",
    "# Define optimizer with weight decay\n",
    "optimizer = optim.AdamW(model.parameters(), lr=LEARNING_RATE, weight_decay=0.01)\n",
    "\n",
    "# define criterion\n",
    "criterion = nn.CrossEntropyLoss()"
   ]
  },
  {
   "cell_type": "code",
   "execution_count": 26,
   "id": "37fcdda0-6639-4491-a247-e52652a7078d",
   "metadata": {},
   "outputs": [
    {
     "name": "stdout",
     "output_type": "stream",
     "text": [
      "Epoch 1, Train Loss: 0.1340, Val Loss: 0.0786\n",
      "Epoch 2, Train Loss: 0.0604, Val Loss: 0.0732\n",
      "Epoch 3, Train Loss: 0.0487, Val Loss: 0.0739\n",
      "Epoch 4, Train Loss: 0.0425, Val Loss: 0.0762\n",
      "Epoch 5, Train Loss: 0.0384, Val Loss: 0.0802\n"
     ]
    }
   ],
   "source": [
    "# Training loop\n",
    "train_losses = []\n",
    "val_losses = []\n",
    "\n",
    "best_val_loss = float('inf')  # Inisialisasi dengan nilai tak terhingga\n",
    "best_model_state = None\n",
    "\n",
    "for epoch in range(EPOCHS):\n",
    "    train_loss = 0.0\n",
    "    val_loss = 0.0\n",
    "    model.train()\n",
    "    for x, y, _, _ in train_loader:\n",
    "        optimizer.zero_grad()\n",
    "        output = model(x)\n",
    "        loss = criterion(output.view(-1, len(dataset.tags)), y.view(-1))\n",
    "        loss.backward()\n",
    "        optimizer.step()\n",
    "        train_loss += loss.item() * x.size(0)\n",
    "        \n",
    "    train_loss /= len(train_data)\n",
    "    train_losses.append(train_loss)\n",
    "    \n",
    "    model.eval()\n",
    "    with torch.no_grad():\n",
    "        for x_val, y_val, _, _ in val_loader:\n",
    "            output_val = model(x_val)\n",
    "            loss_val = criterion(output_val.view(-1, len(dataset.tags)), y_val.view(-1))\n",
    "            val_loss += loss_val.item() * x_val.size(0)\n",
    "        val_loss /= len(val_data)\n",
    "        val_losses.append(val_loss)\n",
    "        \n",
    "        # Simpan model jika val_loss saat ini lebih baik daripada yang sebelumnya\n",
    "        if val_loss < best_val_loss:\n",
    "            best_val_loss = val_loss\n",
    "            best_model_state = model.state_dict()\n",
    "\n",
    "    print(f\"Epoch {epoch+1}, Train Loss: {train_loss:.4f}, Val Loss: {val_loss:.4f}\")"
   ]
  },
  {
   "cell_type": "code",
   "execution_count": 27,
   "id": "cbf486cf-0065-4883-ab9b-a7c517c050cf",
   "metadata": {},
   "outputs": [
    {
     "data": {
      "image/png": "[encoded data removed]",
      "text/plain": [
       "<Figure size 1000x500 with 1 Axes>"
      ]
     },
     "metadata": {},
     "output_type": "display_data"
    }
   ],
   "source": [
    "# Plot learning curves\n",
    "plt.figure(figsize=(10, 5))\n",
    "plt.plot(train_losses, label='Train Loss')\n",
    "plt.plot(val_losses, label='Validation Loss')\n",
    "plt.xlabel('Epochs')\n",
    "plt.ylabel('Loss')\n",
    "plt.title('Training and Validation Loss')\n",
    "plt.legend()\n",
    "plt.show()"
   ]
  },
  {
   "cell_type": "code",
   "execution_count": 28,
   "id": "9547492d-2160-480e-b08b-a3f6a860055d",
   "metadata": {},
   "outputs": [],
   "source": [
    "# Save the best model\n",
    "torch.save(best_model_state, 'best_ner_model_lstm.pth')"
   ]
  },
  {
   "cell_type": "code",
   "execution_count": 29,
   "id": "0bbcdf5e-74bf-4d56-81b5-5a63ffc81a6d",
   "metadata": {},
   "outputs": [
    {
     "data": {
      "text/plain": [
       "<All keys matched successfully>"
      ]
     },
     "execution_count": 29,
     "metadata": {},
     "output_type": "execute_result"
    }
   ],
   "source": [
    "# Load the best model\n",
    "best_model = NERModel(len(dataset.words) + 1, EMBEDDING_DIM, HIDDEN_DIM, len(dataset.tags))\n",
    "best_model.load_state_dict(torch.load('best_ner_model_lstm.pth'))"
   ]
  },
  {
   "cell_type": "code",
   "execution_count": 30,
   "id": "1da77f9c-958f-4786-84b4-15cca7949aa9",
   "metadata": {},
   "outputs": [
    {
     "name": "stdout",
     "output_type": "stream",
     "text": [
      "Bill Gates is the founder of Microsoft\n",
      "['B-per', 'I-per', 'O', 'O', 'O', 'O', 'B-org']\n"
     ]
    }
   ],
   "source": [
    "# Function to predict tags for a given sentence\n",
    "def predict_tags(sentence, model):\n",
    "    words = sentence.split()\n",
    "    x = [dataset.word2idx.get(word, 0) for word in words]\n",
    "    x = torch.tensor(x).unsqueeze(0)\n",
    "    with torch.no_grad():\n",
    "        output = model(x)\n",
    "        _, predicted_tags = torch.max(output, dim=2)\n",
    "    predicted_tags = predicted_tags.squeeze().tolist()\n",
    "    predicted_labels = [dataset.tags[idx] for idx in predicted_tags]\n",
    "    return predicted_labels\n",
    "\n",
    "# Test prediction on a sample sentence\n",
    "sample_sentence = \"Bill Gates is the founder of Microsoft\"\n",
    "predicted_tags = predict_tags(sample_sentence, best_model)\n",
    "print(sample_sentence)\n",
    "print(predicted_tags)"
   ]
  },
  {
   "cell_type": "code",
   "execution_count": null,
   "id": "632a14f1-2f52-47e3-b143-4a1a39159c80",
   "metadata": {},
   "outputs": [],
   "source": []
  }
 ],
 "metadata": {
  "kernelspec": {
   "display_name": "Python 3 (ipykernel)",
   "language": "python",
   "name": "python3"
  },
  "language_info": {
   "codemirror_mode": {
    "name": "ipython",
    "version": 3
   },
   "file_extension": ".py",
   "mimetype": "text/x-python",
   "name": "python",
   "nbconvert_exporter": "python",
   "pygments_lexer": "ipython3",
   "version": "3.10.9"
  }
 },
 "nbformat": 4,
 "nbformat_minor": 5
}
